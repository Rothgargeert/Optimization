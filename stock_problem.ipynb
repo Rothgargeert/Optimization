{
 "cells": [
  {
   "cell_type": "code",
   "execution_count": 1,
   "metadata": {},
   "outputs": [
    {
     "name": "stdout",
     "output_type": "stream",
     "text": [
      "Requirement already satisfied: pulp in c:\\users\\jonat\\anaconda3\\lib\\site-packages (2.0)\n",
      "Requirement already satisfied: pyparsing>=2.0.1 in c:\\users\\jonat\\anaconda3\\lib\\site-packages (from pulp) (2.2.0)\n"
     ]
    }
   ],
   "source": [
    "! pip install pulp"
   ]
  },
  {
   "cell_type": "code",
   "execution_count": 2,
   "metadata": {},
   "outputs": [],
   "source": [
    "import pulp"
   ]
  },
  {
   "cell_type": "code",
   "execution_count": 3,
   "metadata": {},
   "outputs": [],
   "source": [
    "import pandas as pd"
   ]
  },
  {
   "cell_type": "code",
   "execution_count": 4,
   "metadata": {},
   "outputs": [],
   "source": [
    "#Create the Stock Items Array"
   ]
  },
  {
   "cell_type": "code",
   "execution_count": 5,
   "metadata": {},
   "outputs": [],
   "source": [
    "stock_items = array=[[0,1,0,0,0,1,0,0,0,0,0,0,0,0,0,0,0,0,0,0,0,0,0,0,0,0,0,0,0,0],\n",
    "                     [0,1,0,0,1,0,0,0,0,0,0,0,0,0,0,0,0,0,0,0,0,0,0,0,0,0,0,0,0,0],\n",
    "                     [1,0,0,0,0,0,1,0,0,0,0,0,0,0,0,0,0,0,0,0,0,0,0,0,0,0,0,0,0,0],\n",
    "                     [0,0,1,0,0,0,1,0,0,0,0,0,0,0,0,0,0,0,0,0,0,0,0,0,0,0,0,0,0,0],\n",
    "                     [0,0,0,1,0,0,0,1,0,0,0,0,0,0,0,0,0,0,0,0,0,0,0,0,0,0,0,0,0,0],\n",
    "                     [0,1,0,0,0,1,0,0,0,0,0,0,0,0,0,0,0,0,0,0,0,0,0,0,0,0,0,0,0,0],\n",
    "                     [1,0,0,0,0,0,1,0,0,0,0,0,0,0,0,0,0,0,0,0,0,0,0,0,0,0,0,0,0,0],\n",
    "                     [0,1,0,0,1,0,0,0,0,0,0,0,0,0,0,0,0,0,0,0,0,0,0,0,0,0,0,0,0,0],\n",
    "                     [0,1,0,0,1,0,0,0,0,0,0,0,0,0,0,0,0,0,0,0,0,0,0,0,0,0,0,0,0,0],\n",
    "                     [1,0,0,0,1,0,0,0,0,0,0,0,0,0,0,0,0,0,0,0,0,0,0,0,0,0,0,0,0,0],\n",
    "                     [0,0,1,0,1,0,0,0,0,0,0,0,0,0,0,0,0,0,0,0,0,0,0,0,0,0,0,0,0,0],\n",
    "                     [0,1,0,0,0,1,0,0,0,0,0,0,0,0,0,0,0,0,0,0,0,0,0,0,0,0,0,0,0,0],\n",
    "                     [0,0,0,1,0,0,0,1,0,0,0,0,0,0,0,0,0,0,0,0,0,0,0,0,0,0,0,0,0,0],\n",
    "                     [0,0,0,1,0,0,0,1,0,0,0,0,0,0,0,0,0,0,0,0,0,0,0,0,0,0,0,0,0,0],\n",
    "                     [0,0,1,0,0,0,1,0,0,0,0,0,0,0,0,0,0,0,0,0,0,0,0,0,0,0,0,0,0,0],\n",
    "                     [0,0,1,0,0,0,1,0,0,0,0,0,0,0,0,0,0,0,0,0,0,0,0,0,0,0,0,0,0,0],\n",
    "                     [1,0,0,0,0,0,0,1,0,0,0,0,0,0,0,0,0,0,0,0,0,0,0,0,0,0,0,0,0,0],\n",
    "                     [0,1,0,0,0,0,1,0,0,0,0,0,0,0,0,0,0,0,0,0,0,0,0,0,0,0,0,0,0,0],\n",
    "                     [0,1,0,0,0,0,0,1,0,0,0,0,0,0,0,0,0,0,0,0,0,0,0,0,0,0,0,0,0,0],\n",
    "                     [0,1,0,0,0,0,1,0,0,0,0,0,0,0,0,0,0,0,0,0,0,0,0,0,0,0,0,0,0,0]]"
   ]
  },
  {
   "cell_type": "code",
   "execution_count": 6,
   "metadata": {},
   "outputs": [],
   "source": [
    "response_df = pd.DataFrame(stock_items, columns = ['T1','T2','T3','T4','W1','W2','W3','W4',\n",
    "                                                  'L1','L2','L3','L4','C1','C2','C3','C4',\n",
    "                                                  'O1','O2','O3','O4','D1','D2',\n",
    "                                                  'S1','S2','S3','S4','R1','R2','R3','R4']) "
   ]
  },
  {
   "cell_type": "code",
   "execution_count": 7,
   "metadata": {},
   "outputs": [
    {
     "name": "stdout",
     "output_type": "stream",
     "text": [
      "    T1  T2  T3  T4  W1  W2  W3  W4  L1  L2 ...  D1  D2  S1  S2  S3  S4  R1  \\\n",
      "0    0   1   0   0   0   1   0   0   0   0 ...   0   0   0   0   0   0   0   \n",
      "1    0   1   0   0   1   0   0   0   0   0 ...   0   0   0   0   0   0   0   \n",
      "2    1   0   0   0   0   0   1   0   0   0 ...   0   0   0   0   0   0   0   \n",
      "3    0   0   1   0   0   0   1   0   0   0 ...   0   0   0   0   0   0   0   \n",
      "4    0   0   0   1   0   0   0   1   0   0 ...   0   0   0   0   0   0   0   \n",
      "5    0   1   0   0   0   1   0   0   0   0 ...   0   0   0   0   0   0   0   \n",
      "6    1   0   0   0   0   0   1   0   0   0 ...   0   0   0   0   0   0   0   \n",
      "7    0   1   0   0   1   0   0   0   0   0 ...   0   0   0   0   0   0   0   \n",
      "8    0   1   0   0   1   0   0   0   0   0 ...   0   0   0   0   0   0   0   \n",
      "9    1   0   0   0   1   0   0   0   0   0 ...   0   0   0   0   0   0   0   \n",
      "10   0   0   1   0   1   0   0   0   0   0 ...   0   0   0   0   0   0   0   \n",
      "11   0   1   0   0   0   1   0   0   0   0 ...   0   0   0   0   0   0   0   \n",
      "12   0   0   0   1   0   0   0   1   0   0 ...   0   0   0   0   0   0   0   \n",
      "13   0   0   0   1   0   0   0   1   0   0 ...   0   0   0   0   0   0   0   \n",
      "14   0   0   1   0   0   0   1   0   0   0 ...   0   0   0   0   0   0   0   \n",
      "15   0   0   1   0   0   0   1   0   0   0 ...   0   0   0   0   0   0   0   \n",
      "16   1   0   0   0   0   0   0   1   0   0 ...   0   0   0   0   0   0   0   \n",
      "17   0   1   0   0   0   0   1   0   0   0 ...   0   0   0   0   0   0   0   \n",
      "18   0   1   0   0   0   0   0   1   0   0 ...   0   0   0   0   0   0   0   \n",
      "19   0   1   0   0   0   0   1   0   0   0 ...   0   0   0   0   0   0   0   \n",
      "\n",
      "    R2  R3  R4  \n",
      "0    0   0   0  \n",
      "1    0   0   0  \n",
      "2    0   0   0  \n",
      "3    0   0   0  \n",
      "4    0   0   0  \n",
      "5    0   0   0  \n",
      "6    0   0   0  \n",
      "7    0   0   0  \n",
      "8    0   0   0  \n",
      "9    0   0   0  \n",
      "10   0   0   0  \n",
      "11   0   0   0  \n",
      "12   0   0   0  \n",
      "13   0   0   0  \n",
      "14   0   0   0  \n",
      "15   0   0   0  \n",
      "16   0   0   0  \n",
      "17   0   0   0  \n",
      "18   0   0   0  \n",
      "19   0   0   0  \n",
      "\n",
      "[20 rows x 30 columns]\n"
     ]
    }
   ],
   "source": [
    "print(response_df)"
   ]
  },
  {
   "cell_type": "code",
   "execution_count": 8,
   "metadata": {},
   "outputs": [],
   "source": [
    "import numpy"
   ]
  },
  {
   "cell_type": "code",
   "execution_count": 9,
   "metadata": {},
   "outputs": [],
   "source": [
    "max_capacity = 1"
   ]
  },
  {
   "cell_type": "code",
   "execution_count": 10,
   "metadata": {},
   "outputs": [],
   "source": [
    "#Create the Stock Array "
   ]
  },
  {
   "cell_type": "code",
   "execution_count": 11,
   "metadata": {},
   "outputs": [],
   "source": [
    "stock = [0,1,1,0,1,0,1,0,1,0,1,0,1,1,0,0,1,1,0,1,0,1,1,0,1,0,0,1,1,1]"
   ]
  },
  {
   "cell_type": "code",
   "execution_count": 12,
   "metadata": {},
   "outputs": [],
   "source": [
    "#Create a a zero matrix for feasibility and change locatiosn to 1 if feasile\n",
    "a = numpy.zeros(shape=(20,30))\n",
    "feas_df = pd.DataFrame(a) "
   ]
  },
  {
   "cell_type": "code",
   "execution_count": 13,
   "metadata": {},
   "outputs": [],
   "source": [
    "# Create a second dataframe with 1/0 for feasible locations for rows\n",
    "for i in range(len(response_df)): \n",
    "  for j in range(len(response_df)):\n",
    "      if response_df.iloc[i,j] <= max_capacity :\n",
    "          feas_df.iloc[i,j] = 1\n",
    "          #print(i,j,\"Feasible\")\n",
    "          #print(feas_df)"
   ]
  },
  {
   "cell_type": "code",
   "execution_count": 14,
   "metadata": {},
   "outputs": [
    {
     "name": "stdout",
     "output_type": "stream",
     "text": [
      "Stock_Model:\n",
      "MINIMIZE\n",
      "1*stock_1 + 1*stock_10 + 1*stock_12 + 1*stock_13 + 1*stock_16 + 1*stock_17 + 1*stock_19 + 1*stock_2 + 1*stock_4 + 1*stock_6 + 1*stock_8 + 0\n",
      "SUBJECT TO\n",
      "_C1: stock_0 + stock_1 + stock_10 + stock_11 + stock_12 + stock_13 + stock_14\n",
      " + stock_15 + stock_16 + stock_17 + stock_18 + stock_19 + stock_2 + stock_3\n",
      " + stock_4 + stock_5 + stock_6 + stock_7 + stock_8 + stock_9 >= 1\n",
      "\n",
      "_C2: stock_0 + stock_1 + stock_10 + stock_11 + stock_12 + stock_13 + stock_14\n",
      " + stock_15 + stock_16 + stock_17 + stock_18 + stock_19 + stock_2 + stock_3\n",
      " + stock_4 + stock_5 + stock_6 + stock_7 + stock_8 + stock_9 >= 1\n",
      "\n",
      "_C3: stock_0 + stock_1 + stock_10 + stock_11 + stock_12 + stock_13 + stock_14\n",
      " + stock_15 + stock_16 + stock_17 + stock_18 + stock_19 + stock_2 + stock_3\n",
      " + stock_4 + stock_5 + stock_6 + stock_7 + stock_8 + stock_9 >= 1\n",
      "\n",
      "_C4: stock_0 + stock_1 + stock_10 + stock_11 + stock_12 + stock_13 + stock_14\n",
      " + stock_15 + stock_16 + stock_17 + stock_18 + stock_19 + stock_2 + stock_3\n",
      " + stock_4 + stock_5 + stock_6 + stock_7 + stock_8 + stock_9 >= 1\n",
      "\n",
      "_C5: stock_0 + stock_1 + stock_10 + stock_11 + stock_12 + stock_13 + stock_14\n",
      " + stock_15 + stock_16 + stock_17 + stock_18 + stock_19 + stock_2 + stock_3\n",
      " + stock_4 + stock_5 + stock_6 + stock_7 + stock_8 + stock_9 >= 1\n",
      "\n",
      "_C6: stock_0 + stock_1 + stock_10 + stock_11 + stock_12 + stock_13 + stock_14\n",
      " + stock_15 + stock_16 + stock_17 + stock_18 + stock_19 + stock_2 + stock_3\n",
      " + stock_4 + stock_5 + stock_6 + stock_7 + stock_8 + stock_9 >= 1\n",
      "\n",
      "_C7: stock_0 + stock_1 + stock_10 + stock_11 + stock_12 + stock_13 + stock_14\n",
      " + stock_15 + stock_16 + stock_17 + stock_18 + stock_19 + stock_2 + stock_3\n",
      " + stock_4 + stock_5 + stock_6 + stock_7 + stock_8 + stock_9 >= 1\n",
      "\n",
      "_C8: stock_0 + stock_1 + stock_10 + stock_11 + stock_12 + stock_13 + stock_14\n",
      " + stock_15 + stock_16 + stock_17 + stock_18 + stock_19 + stock_2 + stock_3\n",
      " + stock_4 + stock_5 + stock_6 + stock_7 + stock_8 + stock_9 >= 1\n",
      "\n",
      "_C9: stock_0 + stock_1 + stock_10 + stock_11 + stock_12 + stock_13 + stock_14\n",
      " + stock_15 + stock_16 + stock_17 + stock_18 + stock_19 + stock_2 + stock_3\n",
      " + stock_4 + stock_5 + stock_6 + stock_7 + stock_8 + stock_9 >= 1\n",
      "\n",
      "_C10: stock_0 + stock_1 + stock_10 + stock_11 + stock_12 + stock_13 + stock_14\n",
      " + stock_15 + stock_16 + stock_17 + stock_18 + stock_19 + stock_2 + stock_3\n",
      " + stock_4 + stock_5 + stock_6 + stock_7 + stock_8 + stock_9 >= 1\n",
      "\n",
      "_C11: stock_0 + stock_1 + stock_10 + stock_11 + stock_12 + stock_13 + stock_14\n",
      " + stock_15 + stock_16 + stock_17 + stock_18 + stock_19 + stock_2 + stock_3\n",
      " + stock_4 + stock_5 + stock_6 + stock_7 + stock_8 + stock_9 >= 1\n",
      "\n",
      "_C12: stock_0 + stock_1 + stock_10 + stock_11 + stock_12 + stock_13 + stock_14\n",
      " + stock_15 + stock_16 + stock_17 + stock_18 + stock_19 + stock_2 + stock_3\n",
      " + stock_4 + stock_5 + stock_6 + stock_7 + stock_8 + stock_9 >= 1\n",
      "\n",
      "_C13: stock_0 + stock_1 + stock_10 + stock_11 + stock_12 + stock_13 + stock_14\n",
      " + stock_15 + stock_16 + stock_17 + stock_18 + stock_19 + stock_2 + stock_3\n",
      " + stock_4 + stock_5 + stock_6 + stock_7 + stock_8 + stock_9 >= 1\n",
      "\n",
      "_C14: stock_0 + stock_1 + stock_10 + stock_11 + stock_12 + stock_13 + stock_14\n",
      " + stock_15 + stock_16 + stock_17 + stock_18 + stock_19 + stock_2 + stock_3\n",
      " + stock_4 + stock_5 + stock_6 + stock_7 + stock_8 + stock_9 >= 1\n",
      "\n",
      "_C15: stock_0 + stock_1 + stock_10 + stock_11 + stock_12 + stock_13 + stock_14\n",
      " + stock_15 + stock_16 + stock_17 + stock_18 + stock_19 + stock_2 + stock_3\n",
      " + stock_4 + stock_5 + stock_6 + stock_7 + stock_8 + stock_9 >= 1\n",
      "\n",
      "_C16: stock_0 + stock_1 + stock_10 + stock_11 + stock_12 + stock_13 + stock_14\n",
      " + stock_15 + stock_16 + stock_17 + stock_18 + stock_19 + stock_2 + stock_3\n",
      " + stock_4 + stock_5 + stock_6 + stock_7 + stock_8 + stock_9 >= 1\n",
      "\n",
      "_C17: stock_0 + stock_1 + stock_10 + stock_11 + stock_12 + stock_13 + stock_14\n",
      " + stock_15 + stock_16 + stock_17 + stock_18 + stock_19 + stock_2 + stock_3\n",
      " + stock_4 + stock_5 + stock_6 + stock_7 + stock_8 + stock_9 >= 1\n",
      "\n",
      "_C18: stock_0 + stock_1 + stock_10 + stock_11 + stock_12 + stock_13 + stock_14\n",
      " + stock_15 + stock_16 + stock_17 + stock_18 + stock_19 + stock_2 + stock_3\n",
      " + stock_4 + stock_5 + stock_6 + stock_7 + stock_8 + stock_9 >= 1\n",
      "\n",
      "_C19: stock_0 + stock_1 + stock_10 + stock_11 + stock_12 + stock_13 + stock_14\n",
      " + stock_15 + stock_16 + stock_17 + stock_18 + stock_19 + stock_2 + stock_3\n",
      " + stock_4 + stock_5 + stock_6 + stock_7 + stock_8 + stock_9 >= 1\n",
      "\n",
      "_C20: stock_0 + stock_1 + stock_10 + stock_11 + stock_12 + stock_13 + stock_14\n",
      " + stock_15 + stock_16 + stock_17 + stock_18 + stock_19 + stock_2 + stock_3\n",
      " + stock_4 + stock_5 + stock_6 + stock_7 + stock_8 + stock_9 >= 1\n",
      "\n",
      "VARIABLES\n",
      "0 <= stock_0 <= 1 Integer\n",
      "0 <= stock_1 <= 1 Integer\n",
      "0 <= stock_10 <= 1 Integer\n",
      "0 <= stock_11 <= 1 Integer\n",
      "0 <= stock_12 <= 1 Integer\n",
      "0 <= stock_13 <= 1 Integer\n",
      "0 <= stock_14 <= 1 Integer\n",
      "0 <= stock_15 <= 1 Integer\n",
      "0 <= stock_16 <= 1 Integer\n",
      "0 <= stock_17 <= 1 Integer\n",
      "0 <= stock_18 <= 1 Integer\n",
      "0 <= stock_19 <= 1 Integer\n",
      "0 <= stock_2 <= 1 Integer\n",
      "0 <= stock_3 <= 1 Integer\n",
      "0 <= stock_4 <= 1 Integer\n",
      "0 <= stock_5 <= 1 Integer\n",
      "0 <= stock_6 <= 1 Integer\n",
      "0 <= stock_7 <= 1 Integer\n",
      "0 <= stock_8 <= 1 Integer\n",
      "0 <= stock_9 <= 1 Integer\n",
      "\n",
      "The Stocks for Each Set\n",
      "stock_0\n",
      "stock_3\n",
      "stock_5\n",
      "stock_7\n",
      "stock_9\n",
      "stock_11\n",
      "stock_14\n",
      "stock_15\n",
      "stock_18\n"
     ]
    },
    {
     "data": {
      "text/plain": [
       "0.0"
      ]
     },
     "execution_count": 14,
     "metadata": {},
     "output_type": "execute_result"
    }
   ],
   "source": [
    "#create a binary variable to state that a tract is used to has a station\n",
    "x = pulp.LpVariable.dicts('stock', range(len(response_df)), \n",
    "                            lowBound = 0,\n",
    "                            upBound = 1,\n",
    "                            cat = pulp.LpInteger)\n",
    "\n",
    "model = pulp.LpProblem(\"Stock_Model\", pulp.LpMinimize)\n",
    "\n",
    "model += sum([stock[j] * x[j] for j in range(len(response_df))]) \n",
    "\n",
    "#specify the maximum number of tables\n",
    "for i in range(len(response_df)):\n",
    "    model += sum([x[j]* feas_df.iloc[i,j]for j in range(len(response_df))]) >=  1\n",
    "                                # At Least one coverage for this set \n",
    "print(model)\n",
    "model.solve()\n",
    "\n",
    "print(\"The Stocks for Each Set\")\n",
    "for j in range(len(response_df)):\n",
    "    if x[j].value() == 1.0:\n",
    "        print(x[j])\n",
    "model.objective.value()\n"
   ]
  }
 ],
 "metadata": {
  "kernelspec": {
   "display_name": "Python 3",
   "language": "python",
   "name": "python3"
  },
  "language_info": {
   "codemirror_mode": {
    "name": "ipython",
    "version": 3
   },
   "file_extension": ".py",
   "mimetype": "text/x-python",
   "name": "python",
   "nbconvert_exporter": "python",
   "pygments_lexer": "ipython3",
   "version": "3.7.0"
  }
 },
 "nbformat": 4,
 "nbformat_minor": 2
}
